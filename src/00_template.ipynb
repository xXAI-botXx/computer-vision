{
 "cells": [
  {
   "cell_type": "markdown",
   "metadata": {},
   "source": [
    "# Title of the notebook\n",
    "\n",
    "- Topic 1"
   ]
  },
  {
   "cell_type": "markdown",
   "metadata": {},
   "source": [
    "---\n",
    "### Imports and Helper-functions"
   ]
  },
  {
   "cell_type": "code",
   "execution_count": 1,
   "metadata": {},
   "outputs": [],
   "source": [
    "import os\n",
    "import random\n",
    "\n",
    "import numpy as np\n",
    "import matplotlib.pyplot as plt\n",
    "import cv2"
   ]
  },
  {
   "cell_type": "code",
   "execution_count": null,
   "metadata": {},
   "outputs": [],
   "source": [
    "def imshow(img, title=None, size=10, axis=False, color_space=\"BGR\"):\n",
    "    aspect_ratio = img.shape[0] / img.shape[1]\n",
    "    plt.figure(figsize=(size * aspect_ratio, size))\n",
    "    if color_space.lower() == \"bgr\":\n",
    "        rgb_img = cv2.cvtColor(img, cv2.COLOR_BGR2RGB)\n",
    "    elif color_space.lower() == \"rgb\":\n",
    "        rgb_img = img\n",
    "    else:\n",
    "        rgb_img = cv2.cvtColor(img, cv2.COLOR_HSV2RGB)\n",
    "    plt.imshow(rgb_img)\n",
    "    if type(title) == str:\n",
    "        plt.title(title)\n",
    "    if axis == False:\n",
    "        plt.axis('off')\n",
    "    plt.show()"
   ]
  },
  {
   "cell_type": "code",
   "execution_count": null,
   "metadata": {},
   "outputs": [],
   "source": [
    "def get_random_img_path(search_path='../../res/img', skip=[\"flickr\"]):\n",
    "    \"\"\"\n",
    "    This function searches for common image files in all subdirectories\n",
    "    and return a random image path of them.\n",
    "    \"\"\"\n",
    "    image_extensions = ['.jpg', '.jpeg', '.png', '.gif', '.bmp', '.tiff', '.ico']\n",
    "    image_paths = []\n",
    "\n",
    "    # Walk through all subdirectories\n",
    "    for root, dirs, files in os.walk(search_path):\n",
    "        for file_name in files:\n",
    "            # Check if the file is an image\n",
    "            if any(file_name.lower().endswith(ext) for ext in image_extensions):\n",
    "                # Get the full file path\n",
    "                full_path = os.path.join(root, file_name).replace(\"\\\\\", \"/\")\n",
    "                if not any(i in full_path for i in skip):\n",
    "                    image_paths.append(full_path)\n",
    "\n",
    "    return random.choice(image_paths)\n",
    "\n",
    "# get an image\n",
    "IMG_PATH = get_random_img_path(skip=[\"flickr\", \"weather\", \"gem\", \"Cheetahs\", \"Lions\", \"chinese_art\", \"course_img\"])\n",
    "IMG_PATH   "
   ]
  },
  {
   "cell_type": "markdown",
   "metadata": {},
   "source": [
    "---\n",
    "### Loading data"
   ]
  },
  {
   "cell_type": "code",
   "execution_count": null,
   "metadata": {},
   "outputs": [],
   "source": [
    "img = cv2.imread(IMG_PATH)\n",
    "imshow(img)\n",
    "\n",
    "gray = cv2.cvtColor(img, cv2.COLOR_BGR2GRAY)\n",
    "\n",
    "img.shape"
   ]
  },
  {
   "cell_type": "markdown",
   "metadata": {},
   "source": [
    "---\n",
    "### Topic 1"
   ]
  },
  {
   "cell_type": "code",
   "execution_count": null,
   "metadata": {},
   "outputs": [],
   "source": []
  },
  {
   "cell_type": "markdown",
   "metadata": {},
   "source": [
    "---"
   ]
  }
 ],
 "metadata": {
  "kernelspec": {
   "display_name": "Python 3",
   "language": "python",
   "name": "python3"
  },
  "language_info": {
   "codemirror_mode": {
    "name": "ipython",
    "version": 3
   },
   "file_extension": ".py",
   "mimetype": "text/x-python",
   "name": "python",
   "nbconvert_exporter": "python",
   "pygments_lexer": "ipython3",
   "version": "3.12.1"
  }
 },
 "nbformat": 4,
 "nbformat_minor": 2
}
